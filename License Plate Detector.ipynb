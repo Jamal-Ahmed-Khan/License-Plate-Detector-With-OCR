{
 "cells": [
  {
   "cell_type": "code",
   "execution_count": 6,
   "id": "91ed48fe",
   "metadata": {},
   "outputs": [
    {
     "name": "stdout",
     "output_type": "stream",
     "text": [
      "Requirement already satisfied: pytesseract in c:\\users\\hp\\anaconda3\\lib\\site-packages (0.3.10)\n",
      "Requirement already satisfied: Pillow>=8.0.0 in c:\\users\\hp\\anaconda3\\lib\\site-packages (from pytesseract) (9.4.0)\n",
      "Requirement already satisfied: packaging>=21.3 in c:\\users\\hp\\anaconda3\\lib\\site-packages (from pytesseract) (22.0)\n"
     ]
    }
   ],
   "source": [
    "!python -m pip install pytesseract"
   ]
  },
  {
   "cell_type": "code",
   "execution_count": 1,
   "id": "7f3ac65c",
   "metadata": {},
   "outputs": [
    {
     "name": "stdout",
     "output_type": "stream",
     "text": [
      "Requirement already satisfied: easyocr in c:\\users\\hp\\anaconda3\\lib\\site-packages (1.6.2)\n",
      "Requirement already satisfied: scikit-image in c:\\users\\hp\\anaconda3\\lib\\site-packages (from easyocr) (0.19.3)\n",
      "Requirement already satisfied: PyYAML in c:\\users\\hp\\anaconda3\\lib\\site-packages (from easyocr) (6.0)\n",
      "Requirement already satisfied: numpy in c:\\users\\hp\\anaconda3\\lib\\site-packages (from easyocr) (1.23.5)\n",
      "Requirement already satisfied: Shapely in c:\\users\\hp\\anaconda3\\lib\\site-packages (from easyocr) (2.0.1)\n",
      "Requirement already satisfied: opencv-python-headless<=4.5.4.60 in c:\\users\\hp\\anaconda3\\lib\\site-packages (from easyocr) (4.5.4.60)\n",
      "Requirement already satisfied: python-bidi in c:\\users\\hp\\anaconda3\\lib\\site-packages (from easyocr) (0.4.2)\n",
      "Requirement already satisfied: torchvision>=0.5 in c:\\users\\hp\\anaconda3\\lib\\site-packages (from easyocr) (0.15.1)\n",
      "Requirement already satisfied: torch in c:\\users\\hp\\anaconda3\\lib\\site-packages (from easyocr) (2.0.0)\n",
      "Requirement already satisfied: Pillow in c:\\users\\hp\\anaconda3\\lib\\site-packages (from easyocr) (9.4.0)\n",
      "Requirement already satisfied: scipy in c:\\users\\hp\\anaconda3\\lib\\site-packages (from easyocr) (1.10.0)\n",
      "Requirement already satisfied: pyclipper in c:\\users\\hp\\anaconda3\\lib\\site-packages (from easyocr) (1.3.0.post4)\n",
      "Requirement already satisfied: ninja in c:\\users\\hp\\anaconda3\\lib\\site-packages (from easyocr) (1.11.1)\n",
      "Requirement already satisfied: requests in c:\\users\\hp\\anaconda3\\lib\\site-packages (from torchvision>=0.5->easyocr) (2.28.1)\n",
      "Requirement already satisfied: jinja2 in c:\\users\\hp\\anaconda3\\lib\\site-packages (from torch->easyocr) (3.1.2)\n",
      "Requirement already satisfied: networkx in c:\\users\\hp\\anaconda3\\lib\\site-packages (from torch->easyocr) (2.8.4)\n",
      "Requirement already satisfied: filelock in c:\\users\\hp\\anaconda3\\lib\\site-packages (from torch->easyocr) (3.9.0)\n",
      "Requirement already satisfied: sympy in c:\\users\\hp\\anaconda3\\lib\\site-packages (from torch->easyocr) (1.11.1)\n",
      "Requirement already satisfied: typing-extensions in c:\\users\\hp\\anaconda3\\lib\\site-packages (from torch->easyocr) (4.4.0)\n",
      "Requirement already satisfied: six in c:\\users\\hp\\anaconda3\\lib\\site-packages (from python-bidi->easyocr) (1.16.0)\n",
      "Requirement already satisfied: PyWavelets>=1.1.1 in c:\\users\\hp\\anaconda3\\lib\\site-packages (from scikit-image->easyocr) (1.4.1)\n",
      "Requirement already satisfied: packaging>=20.0 in c:\\users\\hp\\anaconda3\\lib\\site-packages (from scikit-image->easyocr) (22.0)\n",
      "Requirement already satisfied: tifffile>=2019.7.26 in c:\\users\\hp\\anaconda3\\lib\\site-packages (from scikit-image->easyocr) (2021.7.2)\n",
      "Requirement already satisfied: imageio>=2.4.1 in c:\\users\\hp\\anaconda3\\lib\\site-packages (from scikit-image->easyocr) (2.26.0)\n",
      "Requirement already satisfied: MarkupSafe>=2.0 in c:\\users\\hp\\anaconda3\\lib\\site-packages (from jinja2->torch->easyocr) (2.1.1)\n",
      "Requirement already satisfied: urllib3<1.27,>=1.21.1 in c:\\users\\hp\\anaconda3\\lib\\site-packages (from requests->torchvision>=0.5->easyocr) (1.26.14)\n",
      "Requirement already satisfied: charset-normalizer<3,>=2 in c:\\users\\hp\\anaconda3\\lib\\site-packages (from requests->torchvision>=0.5->easyocr) (2.0.4)\n",
      "Requirement already satisfied: certifi>=2017.4.17 in c:\\users\\hp\\anaconda3\\lib\\site-packages (from requests->torchvision>=0.5->easyocr) (2022.12.7)\n",
      "Requirement already satisfied: idna<4,>=2.5 in c:\\users\\hp\\anaconda3\\lib\\site-packages (from requests->torchvision>=0.5->easyocr) (3.4)\n",
      "Requirement already satisfied: mpmath>=0.19 in c:\\users\\hp\\anaconda3\\lib\\site-packages (from sympy->torch->easyocr) (1.2.1)\n"
     ]
    }
   ],
   "source": [
    "! pip install easyocr"
   ]
  },
  {
   "cell_type": "code",
   "execution_count": 2,
   "id": "59e0ca79",
   "metadata": {},
   "outputs": [
    {
     "name": "stdout",
     "output_type": "stream",
     "text": [
      "Collecting opencv-python\n",
      "  Downloading opencv_python-4.7.0.72-cp37-abi3-win_amd64.whl (38.2 MB)\n",
      "     ---------------------------------------- 38.2/38.2 MB 2.1 MB/s eta 0:00:00\n",
      "Requirement already satisfied: numpy>=1.17.3 in c:\\users\\hp\\anaconda3\\lib\\site-packages (from opencv-python) (1.23.5)\n",
      "Installing collected packages: opencv-python\n",
      "Successfully installed opencv-python-4.7.0.72\n"
     ]
    }
   ],
   "source": [
    "! pip install opencv-python"
   ]
  },
  {
   "cell_type": "code",
   "execution_count": 2,
   "id": "3d4dddb3",
   "metadata": {},
   "outputs": [
    {
     "name": "stderr",
     "output_type": "stream",
     "text": [
      "CUDA not available - defaulting to CPU. Note: This module is much faster with a GPU.\n"
     ]
    },
    {
     "name": "stdout",
     "output_type": "stream",
     "text": [
      "JLLEB_; 06 5706 570g\n"
     ]
    }
   ],
   "source": [
    "import cv2\n",
    "import easyocr\n",
    "#img = cv2.imread('plate.jpg')\n",
    "img = 'plate.jpg'\n",
    "\n",
    "# # Convert the image to grayscale\n",
    "# gray = cv2.cvtColor(img, cv2.COLOR_BGR2GRAY)\n",
    "\n",
    "# # Apply thresholding to remove noise\n",
    "# thresh = cv2.threshold(gray, 0, 255, cv2.THRESH_BINARY + cv2.THRESH_OTSU)[1]\n",
    "\n",
    "# Perform OCR using EasyOCR\n",
    "reader = easyocr.Reader(['en'])\n",
    "result = reader.readtext(img)\n",
    "\n",
    "# Extract the recognized text from the result\n",
    "text = ' '.join([res[1] for res in result])\n",
    "print(text)"
   ]
  },
  {
   "cell_type": "code",
   "execution_count": 9,
   "id": "ab658ba9",
   "metadata": {
    "scrolled": true
   },
   "outputs": [
    {
     "name": "stdout",
     "output_type": "stream",
     "text": [
      "An `\n",
      "~\n",
      "Antj4\n",
      "AKH-343|\n",
      "SIndh\n",
      "AKH-3431\n",
      "SINDH\n",
      "AKH-343|\n",
      "SINDH\n",
      "AKH-343,\n",
      "SINDH\n",
      "AKH-343\n",
      "SINDH\n",
      "AKH-3431\n",
      "SINDH\n",
      "AKH-343|\n",
      "SINDH\n",
      "AKH-343|\n",
      "SInDH\n",
      "AKH-343\n",
      "SIndh\n",
      "AKH-343/\n",
      "SinDH\n",
      "AKH-343|\n",
      "SinDH\n",
      "AKH-343\n",
      "Sindh\n"
     ]
    },
    {
     "name": "stderr",
     "output_type": "stream",
     "text": [
      "Exception in Tkinter callback\n",
      "Traceback (most recent call last):\n",
      "  File \"C:\\Users\\Hp\\anaconda3\\lib\\tkinter\\__init__.py\", line 1921, in __call__\n",
      "    return self.func(*args)\n",
      "  File \"C:\\Users\\Hp\\AppData\\Local\\Temp\\ipykernel_16352\\620499390.py\", line 81, in detect_plates\n",
      "    label.config(text=\"Number of plates detected: {}\".format(count), font = ('Arial', 20),bg = '#f97f5a')\n",
      "  File \"C:\\Users\\Hp\\anaconda3\\lib\\tkinter\\__init__.py\", line 1675, in configure\n",
      "    return self._configure('configure', cnf, kw)\n",
      "  File \"C:\\Users\\Hp\\anaconda3\\lib\\tkinter\\__init__.py\", line 1665, in _configure\n",
      "    self.tk.call(_flatten((self._w, cmd)) + self._options(cnf))\n",
      "_tkinter.TclError: invalid command name \".!label2\"\n"
     ]
    },
    {
     "ename": "error",
     "evalue": "OpenCV(4.5.4) D:\\a\\opencv-python\\opencv-python\\opencv\\modules\\highgui\\src\\window.cpp:1268: error: (-2:Unspecified error) The function is not implemented. Rebuild the library with Windows, GTK+ 2.x or Cocoa support. If you are on Ubuntu or Debian, install libgtk2.0-dev and pkg-config, then re-run cmake or configure script in function 'cvDestroyAllWindows'\n",
     "output_type": "error",
     "traceback": [
      "\u001b[1;31m---------------------------------------------------------------------------\u001b[0m",
      "\u001b[1;31merror\u001b[0m                                     Traceback (most recent call last)",
      "Cell \u001b[1;32mIn[9], line 114\u001b[0m\n\u001b[0;32m    112\u001b[0m \u001b[38;5;66;03m# Release the camera and destroy the window when done\u001b[39;00m\n\u001b[0;32m    113\u001b[0m cap\u001b[38;5;241m.\u001b[39mrelease()\n\u001b[1;32m--> 114\u001b[0m \u001b[43mcv2\u001b[49m\u001b[38;5;241;43m.\u001b[39;49m\u001b[43mdestroyAllWindows\u001b[49m\u001b[43m(\u001b[49m\u001b[43m)\u001b[49m\n",
      "\u001b[1;31merror\u001b[0m: OpenCV(4.5.4) D:\\a\\opencv-python\\opencv-python\\opencv\\modules\\highgui\\src\\window.cpp:1268: error: (-2:Unspecified error) The function is not implemented. Rebuild the library with Windows, GTK+ 2.x or Cocoa support. If you are on Ubuntu or Debian, install libgtk2.0-dev and pkg-config, then re-run cmake or configure script in function 'cvDestroyAllWindows'\n"
     ]
    }
   ],
   "source": [
    "import cv2\n",
    "import easyocr\n",
    "import tkinter as tk\n",
    "from tkinter import ttk\n",
    "from PIL import ImageTk, Image\n",
    "\n",
    "# Load the cascade classifier\n",
    "plate_cascade = cv2.CascadeClassifier('pak.xml')\n",
    "\n",
    "# Create a GUI window using tkinter\n",
    "window = tk.Tk()\n",
    "window.geometry(\"800x1000\")\n",
    "window.configure(bg='#75d9fe')\n",
    "\n",
    "window.title(\"License Plate Detection\")\n",
    "\n",
    "# Create a label for the title\n",
    "title_label = tk.Label(window, text=\"License Plate Detection\",bg ='#75d9fe' )\n",
    "title_label.config(font=(\"Arial\", 24))\n",
    "title_label.pack(pady=10)\n",
    "\n",
    "# Create a canvas to display the video feed\n",
    "canvas = tk.Canvas(window, width=700, height=500)\n",
    "canvas.config(bg = '#75d9fe')\n",
    "canvas.pack()\n",
    "\n",
    "# Create a label to display the number of license plates detected\n",
    "label = tk.Label(window, text=\"Number of plates detected: 0\", bg = '#f97f5a')\n",
    "label.pack()\n",
    "\n",
    "# Capture video from camera\n",
    "cap = cv2.VideoCapture(0)\n",
    "\n",
    "# Define a function to detect license plates\n",
    "\n",
    "\n",
    "def detect_plates():\n",
    "    \n",
    "    \n",
    "    count = 0 # Initialize counter variable\n",
    "    \n",
    "    while True:\n",
    "        # Read a frame from the camera feed\n",
    "        ret, frame = cap.read()\n",
    "        \n",
    "        # Convert the frame to grayscale\n",
    "        gray = cv2.cvtColor(frame, cv2.COLOR_BGR2GRAY)\n",
    "        \n",
    "        # Detect license plates in the grayscale image\n",
    "        plates = plate_cascade.detectMultiScale(gray, scaleFactor=1.1, minNeighbors=5, minSize=(50, 50))\n",
    "        font = cv2.FONT_HERSHEY_SIMPLEX\n",
    "\n",
    "        org = (20, 50)\n",
    "        fontScale = 0.7\n",
    "        color = (255, 0, 0)\n",
    "        thickness = 2\n",
    "        # Draw rectangles around the detected license plates\n",
    "        for (x, y, w, h) in plates:\n",
    "            cv2.rectangle(frame, (x, y), (x+w, y+h), (0, 255, 0), 2)\n",
    "            \n",
    "            # Save the license plate image to local directory\n",
    "            plate_img = frame[y:y+h, x:x+w]\n",
    "            result = reader.readtext(plate_img)       \n",
    "            for detection in result:                \n",
    "                text2 = detection[1]\n",
    "                bbox = detection[0]\n",
    "                print(text2)                \n",
    "                cv2.putText(frame, text2, (x+bbox[0][0], y+bbox[0][1]), cv2.FONT_HERSHEY_SIMPLEX, 0.5, (0, 0, 255), 1, cv2.LINE_AA)\n",
    "            cv2.imwrite('plate.jpg', plate_img)\n",
    "            cv2.putText(frame,\"The License Plate has been Saved\",org,font,fontScale,color,thickness,cv2.LINE_AA)           \n",
    "            count = 1 # Increment counter variable\n",
    "            \n",
    "            \n",
    "           \n",
    "            \n",
    "                #\n",
    "        # Update the label with the number of plates detected\n",
    "#         img = Image.open(\"plate.jpg\")\n",
    "#         photo_img = ImageTk.PhotoImage(img)\n",
    "#         label4.config(image = photo_img)\n",
    "        label.config(text=\"Number of plates detected: {}\".format(count), font = ('Arial', 20),bg = '#f97f5a')\n",
    "        \n",
    "        # Display the frame on the canvas\n",
    "        #img = cv2.cvtColor(frame, cv2.COLOR_BGR2RGB)\n",
    "        photo = tk.PhotoImage(data=cv2.imencode('.png', frame)[1].tobytes())\n",
    "        canvas.create_image(35, 0, image=photo, anchor=tk.NW)\n",
    "        \n",
    "        # Update the GUI window\n",
    "        window.update_idletasks()\n",
    "        window.update()\n",
    "        \n",
    "     \n",
    "        \n",
    "# Create a button to start the license plate detection process\n",
    "button = tk.Button(window, text=\"Start\", command=detect_plates,width = 20, height = 2 , bg = '#f97f5a')\n",
    "button.pack()\n",
    "\n",
    "# canvas2 = tk.Canvas(window, width=400, height=400)\n",
    "# canvas2.config(bg = '#75d9fe')\n",
    "# canvas2.pack()\n",
    "\n",
    "# label3 = tk.Label(canvas2, text = \"Results\", font = (\"Arial\",22),bg ='#75d9fe',fg = 'blue' )\n",
    "# label3.pack()\n",
    "\n",
    "# label4 = tk.Label(canvas2)\n",
    "# label4.pack()\n",
    "\n",
    "\n",
    "# Run the GUI window\n",
    "window.mainloop()\n",
    "\n",
    "# Release the camera and destroy the window when done\n",
    "cap.release()\n",
    "cv2.destroyAllWindows()\n"
   ]
  },
  {
   "cell_type": "code",
   "execution_count": null,
   "id": "d76e75c1",
   "metadata": {},
   "outputs": [],
   "source": []
  }
 ],
 "metadata": {
  "kernelspec": {
   "display_name": "Python 3 (ipykernel)",
   "language": "python",
   "name": "python3"
  },
  "language_info": {
   "codemirror_mode": {
    "name": "ipython",
    "version": 3
   },
   "file_extension": ".py",
   "mimetype": "text/x-python",
   "name": "python",
   "nbconvert_exporter": "python",
   "pygments_lexer": "ipython3",
   "version": "3.10.9"
  }
 },
 "nbformat": 4,
 "nbformat_minor": 5
}
